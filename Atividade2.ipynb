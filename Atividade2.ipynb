{
 "cells": [
  {
   "cell_type": "code",
   "execution_count": 151,
   "metadata": {},
   "outputs": [
    {
     "name": "stdout",
     "output_type": "stream",
     "text": [
      "Requirement already satisfied: Pillow in /home/codespace/.local/lib/python3.12/site-packages (11.0.0)\n",
      "Note: you may need to restart the kernel to use updated packages.\n"
     ]
    }
   ],
   "source": [
    "pip install Pillow"
   ]
  },
  {
   "cell_type": "code",
   "execution_count": 152,
   "metadata": {},
   "outputs": [],
   "source": [
    "from PIL import Image, ImageEnhance, ImageFilter, ImageOps"
   ]
  },
  {
   "cell_type": "code",
   "execution_count": 153,
   "metadata": {},
   "outputs": [],
   "source": [
    "imagem = Image.open('james justice.jpg')"
   ]
  },
  {
   "cell_type": "code",
   "execution_count": 154,
   "metadata": {},
   "outputs": [],
   "source": [
    "tree = Image.open('lone-tree.jpg')"
   ]
  },
  {
   "cell_type": "code",
   "execution_count": 155,
   "metadata": {},
   "outputs": [],
   "source": [
    "def converter_escala_cinza(imagem):\n",
    "    img_media = imagem.convert('L')\n",
    "\n",
    "    return img_media"
   ]
  },
  {
   "cell_type": "code",
   "execution_count": 156,
   "metadata": {},
   "outputs": [],
   "source": [
    "foto_nova2 = converter_escala_cinza(imagem)\n",
    "foto_nova2.save('james cinza.jpg')"
   ]
  },
  {
   "cell_type": "code",
   "execution_count": 157,
   "metadata": {},
   "outputs": [],
   "source": [
    "def converter_escala_cinza_seg_metodo(imagem):\n",
    "\n",
    "    imagem_rgb = imagem.convert('RGB')\n",
    "\n",
    "    img_luminosidade = imagem_rgb.convert('L', matrix=[\n",
    "        0.299, 0.587, 0.114, 0,\n",
    "        0.299, 0.587, 0.114, 0,\n",
    "        0.299, 0.587, 0.114, 0\n",
    "    ])\n",
    "\n",
    "    return img_luminosidade"
   ]
  },
  {
   "cell_type": "code",
   "execution_count": 158,
   "metadata": {},
   "outputs": [],
   "source": [
    "img_rgb = imagem.convert('RGB')"
   ]
  },
  {
   "cell_type": "code",
   "execution_count": 159,
   "metadata": {},
   "outputs": [],
   "source": [
    "foto_nova2 = converter_escala_cinza_seg_metodo(img_rgb)\n",
    "foto_nova2.save('james cinza claro.jpg')"
   ]
  },
  {
   "cell_type": "code",
   "execution_count": 160,
   "metadata": {},
   "outputs": [],
   "source": [
    "def detectar_bordas_sobel(imagem):\n",
    "    img_cinza = imagem.convert('L')\n",
    "    \n",
    "    bordas_sobel_h = img_cinza.filter(ImageFilter.Kernel((3, 3), \n",
    "        [-1, 0, 1, -2, 0, 2, -1, 0, 1]))\n",
    "    \n",
    "    return {'sobel_h': bordas_sobel_h}"
   ]
  },
  {
   "cell_type": "code",
   "execution_count": 161,
   "metadata": {},
   "outputs": [],
   "source": [
    "foto_nova = detectar_bordas_sobel(tree)\n",
    "imagem = foto_nova['sobel_h']\n",
    "imagem.save('tree_sobel.jpg')"
   ]
  },
  {
   "cell_type": "code",
   "execution_count": 162,
   "metadata": {},
   "outputs": [],
   "source": [
    "def detectar_bordas_prewitt(imagem):\n",
    "    img_cinza = imagem.convert('L')\n",
    "\n",
    "    bordas_prewitt = img_cinza.filter(ImageFilter.CONTOUR)\n",
    "\n",
    "    return {'prewitt': bordas_prewitt}"
   ]
  },
  {
   "cell_type": "code",
   "execution_count": 163,
   "metadata": {},
   "outputs": [],
   "source": [
    "foto_nova = detectar_bordas_prewitt(tree)\n",
    "imagem = foto_nova['prewitt']\n",
    "imagem.save('tree_prewitt.jpg')"
   ]
  },
  {
   "cell_type": "code",
   "execution_count": 164,
   "metadata": {},
   "outputs": [],
   "source": [
    "def detectar_bordas_laplace(imagem):\n",
    "    img_cinza = imagem.convert('L')\n",
    "\n",
    "    bordas_laplace = img_cinza.filter(ImageFilter.Kernel((3, 3),\n",
    "        [0, 1, 0, 1, -4, 1, 0, 1, 0]))\n",
    "    \n",
    "    return {'laplace': bordas_laplace}"
   ]
  },
  {
   "cell_type": "code",
   "execution_count": 165,
   "metadata": {},
   "outputs": [],
   "source": [
    "foto_nova = detectar_bordas_laplace(tree)\n",
    "imagem = foto_nova['laplace']\n",
    "imagem.save('tree_laplace.jpg')"
   ]
  },
  {
   "cell_type": "code",
   "execution_count": 166,
   "metadata": {},
   "outputs": [],
   "source": [
    "def pipeline_processamento(imagem, limiar=128):\n",
    "    # Conversão para escala de cinza\n",
    "    img_cinza = imagem.convert('L')\n",
    "    \n",
    "    # Equalização de histograma\n",
    "    img_equalizada = ImageOps.equalize(img_cinza)\n",
    "    \n",
    "    # Detecção de bordas\n",
    "    img_bordas = img_equalizada.filter(ImageFilter.FIND_EDGES)\n",
    "    \n",
    "    # Limiarização\n",
    "    img_final = img_bordas.point(lambda x: 255 if x > limiar else 0)\n",
    "    \n",
    "    return img_final"
   ]
  },
  {
   "cell_type": "code",
   "execution_count": 167,
   "metadata": {},
   "outputs": [],
   "source": [
    "foto_nova = pipeline_processamento(tree)\n",
    "foto_nova.save('tree_final.jpg')"
   ]
  }
 ],
 "metadata": {
  "kernelspec": {
   "display_name": "Python 3",
   "language": "python",
   "name": "python3"
  },
  "language_info": {
   "codemirror_mode": {
    "name": "ipython",
    "version": 3
   },
   "file_extension": ".py",
   "mimetype": "text/x-python",
   "name": "python",
   "nbconvert_exporter": "python",
   "pygments_lexer": "ipython3",
   "version": "3.12.1"
  }
 },
 "nbformat": 4,
 "nbformat_minor": 2
}
